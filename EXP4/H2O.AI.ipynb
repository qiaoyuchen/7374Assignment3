{
 "cells": [
  {
   "cell_type": "code",
   "execution_count": 22,
   "metadata": {
    "colab": {
     "base_uri": "https://localhost:8080/",
     "height": 2069
    },
    "colab_type": "code",
    "id": "xpRWKvLclph8",
    "outputId": "b7721fa0-996e-4d77-d95e-bdf47a004c2b"
   },
   "outputs": [],
   "source": [
    "import h2o\n",
    "from h2o.automl import H2OAutoML\n",
    "import csv\n",
    "import json\n",
    "import pandas as pd\n",
    "from sklearn.model_selection import train_test_split\n",
    "import numpy as np"
   ]
  },
  {
   "cell_type": "code",
   "execution_count": 2,
   "metadata": {
    "colab": {},
    "colab_type": "code",
    "id": "GCZGN5JyoHUx"
   },
   "outputs": [
    {
     "name": "stdout",
     "output_type": "stream",
     "text": [
      "Checking whether there is an H2O instance running at http://localhost:54321..... not found.\n",
      "Attempting to start a local H2O server...\n",
      "; Java HotSpot(TM) Client VM (build 25.201-b09, mixed mode)\n"
     ]
    },
    {
     "name": "stderr",
     "output_type": "stream",
     "text": [
      "C:\\Users\\kiribyro\\AppData\\Local\\Continuum\\anaconda3\\lib\\site-packages\\h2o\\backend\\server.py:369: UserWarning:   You have a 32-bit version of Java. H2O works best with 64-bit Java.\n",
      "  Please download the latest 64-bit Java SE JDK from Oracle.\n",
      "\n",
      "  warn(\"  You have a 32-bit version of Java. H2O works best with 64-bit Java.\\n\"\n"
     ]
    },
    {
     "name": "stdout",
     "output_type": "stream",
     "text": [
      "  Starting server from C:\\Users\\kiribyro\\AppData\\Local\\Continuum\\anaconda3\\lib\\site-packages\\h2o\\backend\\bin\\h2o.jar\n",
      "  Ice root: C:\\Users\\kiribyro\\AppData\\Local\\Temp\\tmp4q5014o9\n",
      "  JVM stdout: C:\\Users\\kiribyro\\AppData\\Local\\Temp\\tmp4q5014o9\\h2o_kiribyro_started_from_python.out\n",
      "  JVM stderr: C:\\Users\\kiribyro\\AppData\\Local\\Temp\\tmp4q5014o9\\h2o_kiribyro_started_from_python.err\n",
      "  Server is running at http://127.0.0.1:54321\n",
      "Connecting to H2O server at http://127.0.0.1:54321... successful.\n"
     ]
    },
    {
     "data": {
      "text/html": [
       "<div style=\"overflow:auto\"><table style=\"width:50%\"><tr><td>H2O cluster uptime:</td>\n",
       "<td>02 secs</td></tr>\n",
       "<tr><td>H2O cluster timezone:</td>\n",
       "<td>America/New_York</td></tr>\n",
       "<tr><td>H2O data parsing timezone:</td>\n",
       "<td>UTC</td></tr>\n",
       "<tr><td>H2O cluster version:</td>\n",
       "<td>3.22.1.6</td></tr>\n",
       "<tr><td>H2O cluster version age:</td>\n",
       "<td>7 days, 17 hours and 44 minutes </td></tr>\n",
       "<tr><td>H2O cluster name:</td>\n",
       "<td>H2O_from_python_kiribyro_gir5e8</td></tr>\n",
       "<tr><td>H2O cluster total nodes:</td>\n",
       "<td>1</td></tr>\n",
       "<tr><td>H2O cluster free memory:</td>\n",
       "<td>247.5 Mb</td></tr>\n",
       "<tr><td>H2O cluster total cores:</td>\n",
       "<td>4</td></tr>\n",
       "<tr><td>H2O cluster allowed cores:</td>\n",
       "<td>4</td></tr>\n",
       "<tr><td>H2O cluster status:</td>\n",
       "<td>accepting new members, healthy</td></tr>\n",
       "<tr><td>H2O connection url:</td>\n",
       "<td>http://127.0.0.1:54321</td></tr>\n",
       "<tr><td>H2O connection proxy:</td>\n",
       "<td>None</td></tr>\n",
       "<tr><td>H2O internal security:</td>\n",
       "<td>False</td></tr>\n",
       "<tr><td>H2O API Extensions:</td>\n",
       "<td>Amazon S3, Algos, AutoML, Core V3, Core V4</td></tr>\n",
       "<tr><td>Python version:</td>\n",
       "<td>3.6.5 final</td></tr></table></div>"
      ],
      "text/plain": [
       "--------------------------  ------------------------------------------\n",
       "H2O cluster uptime:         02 secs\n",
       "H2O cluster timezone:       America/New_York\n",
       "H2O data parsing timezone:  UTC\n",
       "H2O cluster version:        3.22.1.6\n",
       "H2O cluster version age:    7 days, 17 hours and 44 minutes\n",
       "H2O cluster name:           H2O_from_python_kiribyro_gir5e8\n",
       "H2O cluster total nodes:    1\n",
       "H2O cluster free memory:    247.5 Mb\n",
       "H2O cluster total cores:    4\n",
       "H2O cluster allowed cores:  4\n",
       "H2O cluster status:         accepting new members, healthy\n",
       "H2O connection url:         http://127.0.0.1:54321\n",
       "H2O connection proxy:\n",
       "H2O internal security:      False\n",
       "H2O API Extensions:         Amazon S3, Algos, AutoML, Core V3, Core V4\n",
       "Python version:             3.6.5 final\n",
       "--------------------------  ------------------------------------------"
      ]
     },
     "metadata": {},
     "output_type": "display_data"
    }
   ],
   "source": [
    "h2o.init()"
   ]
  },
  {
   "cell_type": "code",
   "execution_count": 13,
   "metadata": {},
   "outputs": [
    {
     "name": "stdout",
     "output_type": "stream",
     "text": [
      "Parse progress: |█████████████████████████████████████████████████████████| 100%\n"
     ]
    },
    {
     "data": {
      "text/html": [
       "<table>\n",
       "<thead>\n",
       "<tr><th>sentiment  </th><th style=\"text-align: right;\">  magnitude</th><th style=\"text-align: right;\">  score</th><th style=\"text-align: right;\">  Mixed_scores</th><th style=\"text-align: right;\">  Positive</th><th style=\"text-align: right;\">  Neutral</th><th style=\"text-align: right;\">     Mixed</th><th style=\"text-align: right;\">  ibm_score</th></tr>\n",
       "</thead>\n",
       "<tbody>\n",
       "<tr><td>positive   </td><td style=\"text-align: right;\">        0.2</td><td style=\"text-align: right;\">    0  </td><td style=\"text-align: right;\">    0.00302382</td><td style=\"text-align: right;\">0.791934  </td><td style=\"text-align: right;\"> 0.201138</td><td style=\"text-align: right;\">0.00302382</td><td style=\"text-align: right;\">   0.987951</td></tr>\n",
       "<tr><td>positive   </td><td style=\"text-align: right;\">        0  </td><td style=\"text-align: right;\">    0  </td><td style=\"text-align: right;\">    0.00282023</td><td style=\"text-align: right;\">0.0163051 </td><td style=\"text-align: right;\"> 0.974791</td><td style=\"text-align: right;\">0.00282023</td><td style=\"text-align: right;\">   0.655981</td></tr>\n",
       "<tr><td>negative   </td><td style=\"text-align: right;\">        0.3</td><td style=\"text-align: right;\">    0.1</td><td style=\"text-align: right;\">    0.00194183</td><td style=\"text-align: right;\">0.00255251</td><td style=\"text-align: right;\"> 0.980735</td><td style=\"text-align: right;\">0.00194183</td><td style=\"text-align: right;\">   0       </td></tr>\n",
       "<tr><td>neutral    </td><td style=\"text-align: right;\">        1.1</td><td style=\"text-align: right;\">    0.3</td><td style=\"text-align: right;\">    0.0163609 </td><td style=\"text-align: right;\">0.855354  </td><td style=\"text-align: right;\"> 0.127485</td><td style=\"text-align: right;\">0.0163609 </td><td style=\"text-align: right;\">   0.785524</td></tr>\n",
       "<tr><td>neutral    </td><td style=\"text-align: right;\">        1.1</td><td style=\"text-align: right;\">    0  </td><td style=\"text-align: right;\">    0.0144081 </td><td style=\"text-align: right;\">0.00961724</td><td style=\"text-align: right;\"> 0.919831</td><td style=\"text-align: right;\">0.0144081 </td><td style=\"text-align: right;\">   0.463839</td></tr>\n",
       "<tr><td>neutral    </td><td style=\"text-align: right;\">        0  </td><td style=\"text-align: right;\">    0  </td><td style=\"text-align: right;\">    0.00400618</td><td style=\"text-align: right;\">0.0342761 </td><td style=\"text-align: right;\"> 0.939878</td><td style=\"text-align: right;\">0.00400618</td><td style=\"text-align: right;\">  -0.738093</td></tr>\n",
       "<tr><td>neutral    </td><td style=\"text-align: right;\">        0.1</td><td style=\"text-align: right;\">    0.1</td><td style=\"text-align: right;\">    0.00484417</td><td style=\"text-align: right;\">0.00736229</td><td style=\"text-align: right;\"> 0.886546</td><td style=\"text-align: right;\">0.00484417</td><td style=\"text-align: right;\">   0       </td></tr>\n",
       "<tr><td>neutral    </td><td style=\"text-align: right;\">        0  </td><td style=\"text-align: right;\">    0  </td><td style=\"text-align: right;\">    0.0037434 </td><td style=\"text-align: right;\">0.278558  </td><td style=\"text-align: right;\"> 0.713765</td><td style=\"text-align: right;\">0.0037434 </td><td style=\"text-align: right;\">  -0.738093</td></tr>\n",
       "<tr><td>positive   </td><td style=\"text-align: right;\">        0.8</td><td style=\"text-align: right;\">    0.4</td><td style=\"text-align: right;\">    0.00426116</td><td style=\"text-align: right;\">0.0118635 </td><td style=\"text-align: right;\"> 0.968541</td><td style=\"text-align: right;\">0.00426116</td><td style=\"text-align: right;\">   0.490863</td></tr>\n",
       "<tr><td>neutral    </td><td style=\"text-align: right;\">        0.2</td><td style=\"text-align: right;\">    0.2</td><td style=\"text-align: right;\">    0.00294279</td><td style=\"text-align: right;\">0.0653072 </td><td style=\"text-align: right;\"> 0.92357 </td><td style=\"text-align: right;\">0.00294279</td><td style=\"text-align: right;\">  -0.738093</td></tr>\n",
       "</tbody>\n",
       "</table>"
      ]
     },
     "metadata": {},
     "output_type": "display_data"
    },
    {
     "data": {
      "text/plain": []
     },
     "execution_count": 13,
     "metadata": {},
     "output_type": "execute_result"
    }
   ],
   "source": [
    "df = h2o.import_file('exp4_data.csv')\n",
    "df.head()"
   ]
  },
  {
   "cell_type": "code",
   "execution_count": 14,
   "metadata": {
    "colab": {},
    "colab_type": "code",
    "id": "FccDaGIBo_LQ"
   },
   "outputs": [],
   "source": [
    "y = 'sentiment'"
   ]
  },
  {
   "cell_type": "code",
   "execution_count": 15,
   "metadata": {},
   "outputs": [],
   "source": [
    "x = ['magnitude', 'score', 'Mixed_scores', 'Positive',\n",
    "       'Neutral', 'Mixed', 'ibm_score']"
   ]
  },
  {
   "cell_type": "code",
   "execution_count": null,
   "metadata": {},
   "outputs": [],
   "source": []
  },
  {
   "cell_type": "code",
   "execution_count": 19,
   "metadata": {},
   "outputs": [
    {
     "name": "stdout",
     "output_type": "stream",
     "text": [
      "AutoML progress: |████████████████████████████████████████████████████████| 100%\n"
     ]
    }
   ],
   "source": [
    "aml = H2OAutoML(max_models = 100, max_runtime_secs=300, seed = 1)\n",
    "aml.train(x = x, y = y, training_frame = df)"
   ]
  },
  {
   "cell_type": "code",
   "execution_count": 18,
   "metadata": {},
   "outputs": [
    {
     "data": {
      "text/html": [
       "<table>\n",
       "<thead>\n",
       "<tr><th>model_id                                           </th><th style=\"text-align: right;\">  mean_per_class_error</th><th style=\"text-align: right;\">  logloss</th><th style=\"text-align: right;\">    rmse</th><th style=\"text-align: right;\">     mse</th></tr>\n",
       "</thead>\n",
       "<tbody>\n",
       "<tr><td>DeepLearning_grid_1_AutoML_20190321_151658_model_1 </td><td style=\"text-align: right;\">              0.508308</td><td style=\"text-align: right;\"> 0.89331 </td><td style=\"text-align: right;\">0.538709</td><td style=\"text-align: right;\">0.290208</td></tr>\n",
       "<tr><td>GBM_3_AutoML_20190321_152510                       </td><td style=\"text-align: right;\">              0.510759</td><td style=\"text-align: right;\"> 0.803361</td><td style=\"text-align: right;\">0.532849</td><td style=\"text-align: right;\">0.283928</td></tr>\n",
       "<tr><td>GBM_3_AutoML_20190321_151658                       </td><td style=\"text-align: right;\">              0.510759</td><td style=\"text-align: right;\"> 0.803361</td><td style=\"text-align: right;\">0.532849</td><td style=\"text-align: right;\">0.283928</td></tr>\n",
       "<tr><td>GBM_2_AutoML_20190321_152510                       </td><td style=\"text-align: right;\">              0.511122</td><td style=\"text-align: right;\"> 0.802585</td><td style=\"text-align: right;\">0.532927</td><td style=\"text-align: right;\">0.284011</td></tr>\n",
       "<tr><td>GBM_2_AutoML_20190321_151658                       </td><td style=\"text-align: right;\">              0.511122</td><td style=\"text-align: right;\"> 0.802585</td><td style=\"text-align: right;\">0.532927</td><td style=\"text-align: right;\">0.284011</td></tr>\n",
       "<tr><td>GBM_grid_1_AutoML_20190321_152510_model_8          </td><td style=\"text-align: right;\">              0.511922</td><td style=\"text-align: right;\"> 0.86594 </td><td style=\"text-align: right;\">0.541208</td><td style=\"text-align: right;\">0.292907</td></tr>\n",
       "<tr><td>GBM_grid_1_AutoML_20190321_152510_model_6          </td><td style=\"text-align: right;\">              0.514002</td><td style=\"text-align: right;\"> 0.829146</td><td style=\"text-align: right;\">0.533779</td><td style=\"text-align: right;\">0.28492 </td></tr>\n",
       "<tr><td>GBM_grid_1_AutoML_20190321_151658_model_6          </td><td style=\"text-align: right;\">              0.514002</td><td style=\"text-align: right;\"> 0.829146</td><td style=\"text-align: right;\">0.533779</td><td style=\"text-align: right;\">0.28492 </td></tr>\n",
       "<tr><td>GBM_grid_1_AutoML_20190321_151658_model_8          </td><td style=\"text-align: right;\">              0.514923</td><td style=\"text-align: right;\"> 0.873363</td><td style=\"text-align: right;\">0.540987</td><td style=\"text-align: right;\">0.292667</td></tr>\n",
       "<tr><td>DRF_1_AutoML_20190321_152510                       </td><td style=\"text-align: right;\">              0.517607</td><td style=\"text-align: right;\"> 2.81608 </td><td style=\"text-align: right;\">0.540844</td><td style=\"text-align: right;\">0.292512</td></tr>\n",
       "<tr><td>GBM_4_AutoML_20190321_152510                       </td><td style=\"text-align: right;\">              0.518538</td><td style=\"text-align: right;\"> 0.812957</td><td style=\"text-align: right;\">0.535296</td><td style=\"text-align: right;\">0.286541</td></tr>\n",
       "<tr><td>GBM_4_AutoML_20190321_151658                       </td><td style=\"text-align: right;\">              0.518538</td><td style=\"text-align: right;\"> 0.812957</td><td style=\"text-align: right;\">0.535296</td><td style=\"text-align: right;\">0.286541</td></tr>\n",
       "<tr><td>GBM_1_AutoML_20190321_152510                       </td><td style=\"text-align: right;\">              0.519142</td><td style=\"text-align: right;\"> 0.795292</td><td style=\"text-align: right;\">0.529957</td><td style=\"text-align: right;\">0.280854</td></tr>\n",
       "<tr><td>GBM_1_AutoML_20190321_151658                       </td><td style=\"text-align: right;\">              0.519142</td><td style=\"text-align: right;\"> 0.795292</td><td style=\"text-align: right;\">0.529957</td><td style=\"text-align: right;\">0.280854</td></tr>\n",
       "<tr><td>GBM_grid_1_AutoML_20190321_152510_model_3          </td><td style=\"text-align: right;\">              0.519861</td><td style=\"text-align: right;\"> 0.970517</td><td style=\"text-align: right;\">0.557578</td><td style=\"text-align: right;\">0.310893</td></tr>\n",
       "<tr><td>GBM_grid_1_AutoML_20190321_151658_model_3          </td><td style=\"text-align: right;\">              0.519861</td><td style=\"text-align: right;\"> 0.970517</td><td style=\"text-align: right;\">0.557578</td><td style=\"text-align: right;\">0.310893</td></tr>\n",
       "<tr><td>GBM_grid_1_AutoML_20190321_152510_model_9          </td><td style=\"text-align: right;\">              0.521325</td><td style=\"text-align: right;\"> 0.82063 </td><td style=\"text-align: right;\">0.536139</td><td style=\"text-align: right;\">0.287444</td></tr>\n",
       "<tr><td>GBM_grid_1_AutoML_20190321_151658_model_9          </td><td style=\"text-align: right;\">              0.521325</td><td style=\"text-align: right;\"> 0.82063 </td><td style=\"text-align: right;\">0.536139</td><td style=\"text-align: right;\">0.287444</td></tr>\n",
       "<tr><td>DRF_1_AutoML_20190321_151658                       </td><td style=\"text-align: right;\">              0.522627</td><td style=\"text-align: right;\"> 1.35385 </td><td style=\"text-align: right;\">0.53304 </td><td style=\"text-align: right;\">0.284131</td></tr>\n",
       "<tr><td>XRT_1_AutoML_20190321_152510                       </td><td style=\"text-align: right;\">              0.523109</td><td style=\"text-align: right;\"> 2.67023 </td><td style=\"text-align: right;\">0.540653</td><td style=\"text-align: right;\">0.292306</td></tr>\n",
       "<tr><td>XRT_1_AutoML_20190321_151658                       </td><td style=\"text-align: right;\">              0.523109</td><td style=\"text-align: right;\"> 2.67023 </td><td style=\"text-align: right;\">0.540653</td><td style=\"text-align: right;\">0.292306</td></tr>\n",
       "<tr><td>StackedEnsemble_BestOfFamily_AutoML_20190321_151658</td><td style=\"text-align: right;\">              0.527351</td><td style=\"text-align: right;\"> 0.797801</td><td style=\"text-align: right;\">0.529866</td><td style=\"text-align: right;\">0.280758</td></tr>\n",
       "<tr><td>DeepLearning_1_AutoML_20190321_151658              </td><td style=\"text-align: right;\">              0.530896</td><td style=\"text-align: right;\"> 0.838226</td><td style=\"text-align: right;\">0.542196</td><td style=\"text-align: right;\">0.293977</td></tr>\n",
       "<tr><td>GBM_grid_1_AutoML_20190321_152510_model_1          </td><td style=\"text-align: right;\">              0.531235</td><td style=\"text-align: right;\"> 1.07917 </td><td style=\"text-align: right;\">0.660076</td><td style=\"text-align: right;\">0.4357  </td></tr>\n",
       "<tr><td>GBM_grid_1_AutoML_20190321_151658_model_1          </td><td style=\"text-align: right;\">              0.531235</td><td style=\"text-align: right;\"> 1.07917 </td><td style=\"text-align: right;\">0.660076</td><td style=\"text-align: right;\">0.4357  </td></tr>\n",
       "<tr><td>DeepLearning_1_AutoML_20190321_152510              </td><td style=\"text-align: right;\">              0.533994</td><td style=\"text-align: right;\"> 0.874584</td><td style=\"text-align: right;\">0.549547</td><td style=\"text-align: right;\">0.302002</td></tr>\n",
       "<tr><td>StackedEnsemble_AllModels_AutoML_20190321_151658   </td><td style=\"text-align: right;\">              0.534459</td><td style=\"text-align: right;\"> 0.802112</td><td style=\"text-align: right;\">0.53233 </td><td style=\"text-align: right;\">0.283375</td></tr>\n",
       "<tr><td>DeepLearning_grid_1_AutoML_20190321_152510_model_1 </td><td style=\"text-align: right;\">              0.534903</td><td style=\"text-align: right;\"> 0.94711 </td><td style=\"text-align: right;\">0.553582</td><td style=\"text-align: right;\">0.306454</td></tr>\n",
       "<tr><td>GBM_grid_1_AutoML_20190321_151658_model_7          </td><td style=\"text-align: right;\">              0.537074</td><td style=\"text-align: right;\"> 1.08189 </td><td style=\"text-align: right;\">0.661014</td><td style=\"text-align: right;\">0.436939</td></tr>\n",
       "<tr><td>GBM_grid_1_AutoML_20190321_152510_model_7          </td><td style=\"text-align: right;\">              0.537074</td><td style=\"text-align: right;\"> 1.08189 </td><td style=\"text-align: right;\">0.661014</td><td style=\"text-align: right;\">0.436939</td></tr>\n",
       "<tr><td>GBM_grid_1_AutoML_20190321_151658_model_2          </td><td style=\"text-align: right;\">              0.540185</td><td style=\"text-align: right;\"> 0.989197</td><td style=\"text-align: right;\">0.62672 </td><td style=\"text-align: right;\">0.392778</td></tr>\n",
       "<tr><td>GBM_grid_1_AutoML_20190321_152510_model_2          </td><td style=\"text-align: right;\">              0.540185</td><td style=\"text-align: right;\"> 0.989197</td><td style=\"text-align: right;\">0.62672 </td><td style=\"text-align: right;\">0.392778</td></tr>\n",
       "<tr><td>DeepLearning_grid_1_AutoML_20190321_152510_model_2 </td><td style=\"text-align: right;\">              0.54083 </td><td style=\"text-align: right;\"> 0.837073</td><td style=\"text-align: right;\">0.541463</td><td style=\"text-align: right;\">0.293182</td></tr>\n",
       "<tr><td>GLM_grid_1_AutoML_20190321_152510_model_1          </td><td style=\"text-align: right;\">              0.542434</td><td style=\"text-align: right;\"> 0.807524</td><td style=\"text-align: right;\">0.5328  </td><td style=\"text-align: right;\">0.283876</td></tr>\n",
       "<tr><td>GLM_grid_1_AutoML_20190321_151658_model_1          </td><td style=\"text-align: right;\">              0.542434</td><td style=\"text-align: right;\"> 0.807524</td><td style=\"text-align: right;\">0.5328  </td><td style=\"text-align: right;\">0.283876</td></tr>\n",
       "<tr><td>GBM_5_AutoML_20190321_151658                       </td><td style=\"text-align: right;\">              0.545936</td><td style=\"text-align: right;\"> 0.778232</td><td style=\"text-align: right;\">0.530237</td><td style=\"text-align: right;\">0.281152</td></tr>\n",
       "<tr><td>GBM_5_AutoML_20190321_152510                       </td><td style=\"text-align: right;\">              0.545936</td><td style=\"text-align: right;\"> 0.778232</td><td style=\"text-align: right;\">0.530237</td><td style=\"text-align: right;\">0.281152</td></tr>\n",
       "<tr><td>GBM_grid_1_AutoML_20190321_151658_model_5          </td><td style=\"text-align: right;\">              0.547573</td><td style=\"text-align: right;\"> 0.813499</td><td style=\"text-align: right;\">0.545242</td><td style=\"text-align: right;\">0.297289</td></tr>\n",
       "<tr><td>GBM_grid_1_AutoML_20190321_152510_model_5          </td><td style=\"text-align: right;\">              0.547573</td><td style=\"text-align: right;\"> 0.813499</td><td style=\"text-align: right;\">0.545242</td><td style=\"text-align: right;\">0.297289</td></tr>\n",
       "<tr><td>GBM_grid_1_AutoML_20190321_152510_model_4          </td><td style=\"text-align: right;\">              0.547593</td><td style=\"text-align: right;\"> 1.08242 </td><td style=\"text-align: right;\">0.661195</td><td style=\"text-align: right;\">0.437179</td></tr>\n",
       "<tr><td>GBM_grid_1_AutoML_20190321_151658_model_4          </td><td style=\"text-align: right;\">              0.547593</td><td style=\"text-align: right;\"> 1.08242 </td><td style=\"text-align: right;\">0.661195</td><td style=\"text-align: right;\">0.437179</td></tr>\n",
       "<tr><td>DeepLearning_grid_1_AutoML_20190321_151658_model_2 </td><td style=\"text-align: right;\">              0.558674</td><td style=\"text-align: right;\"> 0.851479</td><td style=\"text-align: right;\">0.54307 </td><td style=\"text-align: right;\">0.294925</td></tr>\n",
       "<tr><td>DeepLearning_grid_1_AutoML_20190321_151658_model_3 </td><td style=\"text-align: right;\">              0.558739</td><td style=\"text-align: right;\"> 0.814533</td><td style=\"text-align: right;\">0.544462</td><td style=\"text-align: right;\">0.296439</td></tr>\n",
       "<tr><td>DeepLearning_grid_1_AutoML_20190321_152510_model_3 </td><td style=\"text-align: right;\">              0.561075</td><td style=\"text-align: right;\"> 0.821487</td><td style=\"text-align: right;\">0.53972 </td><td style=\"text-align: right;\">0.291297</td></tr>\n",
       "</tbody>\n",
       "</table>"
      ]
     },
     "metadata": {},
     "output_type": "display_data"
    },
    {
     "data": {
      "text/plain": []
     },
     "execution_count": 18,
     "metadata": {},
     "output_type": "execute_result"
    }
   ],
   "source": [
    "lb = aml.leaderboard\n",
    "lb.head()\n",
    "lb.head(rows=lb.nrows) # Entire leaderboard"
   ]
  },
  {
   "cell_type": "markdown",
   "metadata": {},
   "source": [
    "We did not split the training dataset into training and teting because the dataset was too small for us to be able to get meaningful results. The best model is DeepLearning_grid_1_AutoML_20190321_151658_model_1."
   ]
  },
  {
   "cell_type": "code",
   "execution_count": null,
   "metadata": {},
   "outputs": [],
   "source": []
  },
  {
   "cell_type": "code",
   "execution_count": null,
   "metadata": {},
   "outputs": [],
   "source": []
  },
  {
   "cell_type": "code",
   "execution_count": null,
   "metadata": {},
   "outputs": [],
   "source": []
  }
 ],
 "metadata": {
  "colab": {
   "collapsed_sections": [],
   "name": "Autosklearn",
   "provenance": [],
   "version": "0.3.2"
  },
  "kernelspec": {
   "display_name": "Python 3",
   "language": "python",
   "name": "python3"
  },
  "language_info": {
   "codemirror_mode": {
    "name": "ipython",
    "version": 3
   },
   "file_extension": ".py",
   "mimetype": "text/x-python",
   "name": "python",
   "nbconvert_exporter": "python",
   "pygments_lexer": "ipython3",
   "version": "3.6.5"
  }
 },
 "nbformat": 4,
 "nbformat_minor": 1
}
