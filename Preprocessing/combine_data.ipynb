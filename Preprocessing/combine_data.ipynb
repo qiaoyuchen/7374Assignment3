{
 "cells": [
  {
   "cell_type": "code",
   "execution_count": 2,
   "metadata": {},
   "outputs": [],
   "source": [
    "# coding: utf-8\n",
    "import json\n",
    "import pandas as pd\n",
    "import os\n",
    "import time"
   ]
  },
  {
   "cell_type": "code",
   "execution_count": 3,
   "metadata": {},
   "outputs": [
    {
     "data": {
      "text/plain": [
       "['Team10_NVIDIA.json',\n",
       " 'Team11_Boeing.json',\n",
       " 'Team12_Chevron.json',\n",
       " 'Team1_Google.json',\n",
       " 'Team2_Amazon.json',\n",
       " 'Team3_Facebook.json',\n",
       " 'Team4_Netflix.json',\n",
       " 'Team5_Microsoft.json',\n",
       " 'Team6_Tesla.json',\n",
       " 'Team7_Walmart.json',\n",
       " 'Team8_Kroger.json',\n",
       " 'Team9_GoldmanSachs.json']"
      ]
     },
     "execution_count": 3,
     "metadata": {},
     "output_type": "execute_result"
    }
   ],
   "source": [
    "file_list = os.listdir('data')\n",
    "file_list"
   ]
  },
  {
   "cell_type": "code",
   "execution_count": 4,
   "metadata": {},
   "outputs": [],
   "source": [
    "with open('data/Team1_Google.json',encoding='gb18030',errors='ignore') as f:\n",
    "    json_1 = json.load(f)\n",
    "dict_1 = dict(json_1)\n",
    "df_1 = pd.DataFrame.from_dict(dict_1)\n",
    "\n",
    "with open('data/Team2_Amazon.json',encoding='gb18030',errors='ignore') as f:\n",
    "    json_2 = json.load(f)\n",
    "dict_2 = dict(json_2)\n",
    "df_2 = pd.DataFrame.from_dict(dict_2)\n",
    "\n",
    "with open('data/Team2_Amazon.json',encoding='gb18030',errors='ignore') as f:\n",
    "    json_2 = json.load(f)\n",
    "dict_2 = dict(json_2)\n",
    "df_2 = pd.DataFrame.from_dict(dict_2)\n",
    "\n",
    "with open('data/Team3_Facebook.json',encoding='gb18030',errors='ignore') as f:\n",
    "    json_3 = json.load(f)\n",
    "dict_3 = dict(json_3)\n",
    "df_3 = pd.DataFrame.from_dict(dict_3)\n",
    "\n",
    "with open('data/Team4_Netflix.json',encoding='gb18030',errors='ignore') as f:\n",
    "    json_4 = json.load(f)\n",
    "dict_4 = dict(json_4)\n",
    "df_4 = pd.DataFrame.from_dict(dict_4)\n",
    "\n",
    "with open('data/Team5_Microsoft.json',encoding='gb18030',errors='ignore') as f:\n",
    "    json_5 = json.load(f)\n",
    "dict_5 = dict(json_5)\n",
    "df_5 = pd.DataFrame.from_dict(dict_5)\n",
    "\n",
    "with open('data/Team6_Tesla.json',encoding='gb18030',errors='ignore') as f:\n",
    "    json_6 = json.load(f)\n",
    "dict_6 = dict(json_6)\n",
    "df_6 = pd.DataFrame.from_dict(dict_6)\n",
    "\n",
    "with open('data/Team7_Walmart.json',encoding='gb18030',errors='ignore') as f:\n",
    "    json_7 = json.load(f)\n",
    "dict_7 = dict(json_7)\n",
    "df_7 = pd.DataFrame.from_dict(dict_7)\n",
    "\n",
    "with open('data/Team8_Kroger.json',encoding='gb18030',errors='ignore') as f:\n",
    "    json_8 = json.load(f)\n",
    "dict_8 = dict(json_8)\n",
    "df_8 = pd.DataFrame.from_dict(dict_8)\n",
    "\n",
    "with open('data/Team9_GoldmanSachs.json',encoding='gb18030',errors='ignore') as f:\n",
    "    json_9 = json.load(f)\n",
    "dict_9 = dict(json_9)\n",
    "df_9 = pd.DataFrame.from_dict(dict_9)\n",
    "\n",
    "with open('data/Team10_NVIDIA.json',encoding='gb18030',errors='ignore') as f:\n",
    "    json_10 = json.load(f)\n",
    "dict_10 = dict(json_10)\n",
    "df_10 = pd.DataFrame.from_dict(dict_10)\n",
    "\n",
    "with open('data/Team11_Boeing.json',encoding='gb18030',errors='ignore') as f:\n",
    "    json_11 = json.load(f)\n",
    "dict_11 = dict(json_11)\n",
    "df_11 = pd.DataFrame.from_dict(dict_11)\n",
    "\n",
    "with open('data/Team12_Chevron.json',encoding='gb18030',errors='ignore') as f:\n",
    "    json_12 = json.load(f)\n",
    "dict_12 = dict(json_12)\n",
    "df_12 = pd.DataFrame.from_dict(dict_12)"
   ]
  },
  {
   "cell_type": "code",
   "execution_count": 11,
   "metadata": {},
   "outputs": [],
   "source": [
    "frames = [df_1, df_2, df_3, df_4, df_5, df_6, df_7,df_9, df_10, df_11, df_12]\n",
    "\n",
    "final_df = pd.concat(frames)"
   ]
  },
  {
   "cell_type": "code",
   "execution_count": 12,
   "metadata": {},
   "outputs": [
    {
     "data": {
      "text/plain": [
       "(1535, 2)"
      ]
     },
     "execution_count": 12,
     "metadata": {},
     "output_type": "execute_result"
    }
   ],
   "source": [
    "final_df.shape"
   ]
  },
  {
   "cell_type": "code",
   "execution_count": 13,
   "metadata": {},
   "outputs": [],
   "source": [
    "final_df = final_df.reset_index()\n",
    "final_df = final_df.drop('index',axis=1)\n",
    "final_df.head()\n",
    "final_df.to_json('Complete.json')"
   ]
  }
 ],
 "metadata": {
  "kernelspec": {
   "display_name": "Python 3",
   "language": "python",
   "name": "python3"
  },
  "language_info": {
   "codemirror_mode": {
    "name": "ipython",
    "version": 3
   },
   "file_extension": ".py",
   "mimetype": "text/x-python",
   "name": "python",
   "nbconvert_exporter": "python",
   "pygments_lexer": "ipython3",
   "version": "3.6.8"
  }
 },
 "nbformat": 4,
 "nbformat_minor": 2
}
