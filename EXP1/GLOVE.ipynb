{
 "cells": [
  {
   "cell_type": "code",
   "execution_count": 27,
   "metadata": {},
   "outputs": [],
   "source": [
    "import os\n",
    "import sys\n",
    "import numpy as np\n",
    "from keras.preprocessing.text import Tokenizer\n",
    "from keras.preprocessing.sequence import pad_sequences\n",
    "from keras.utils import to_categorical\n",
    "from keras.layers import Dense, Input, GlobalMaxPooling1D\n",
    "from keras.layers import Conv1D, MaxPooling1D, Embedding, Dropout\n",
    "from keras.models import Sequential\n",
    "from keras.initializers import Constant\n",
    "import json\n",
    "from sklearn.model_selection import train_test_split\n",
    "import matplotlib.pyplot as plt\n",
    "from keras import regularizers"
   ]
  },
  {
   "cell_type": "code",
   "execution_count": 2,
   "metadata": {},
   "outputs": [],
   "source": [
    "BASE_DIR = ''\n",
    "TEXT_DATA_DIR = os.path.join(BASE_DIR, '20_newsgroup')\n",
    "MAX_SEQUENCE_LENGTH = 150\n",
    "MAX_NUM_WORDS = 4000\n",
    "EMBEDDING_DIM = 100\n",
    "VALIDATION_SPLIT = 0.2"
   ]
  },
  {
   "cell_type": "code",
   "execution_count": 3,
   "metadata": {},
   "outputs": [
    {
     "name": "stdout",
     "output_type": "stream",
     "text": [
      "Indexing word vectors.\n",
      "Found 400000 word vectors.\n"
     ]
    }
   ],
   "source": [
    "# first, build index mapping words in the embeddings set\n",
    "# to their embedding vector\n",
    "#https://www.kaggle.com/terenceliu4444/glove6b100dtxt\n",
    "\n",
    "print('Indexing word vectors.')\n",
    "\n",
    "embeddings_index = {}\n",
    "with open(os.path.join('glove.6B.100d.txt'),encoding='utf-8') as f:\n",
    "    \n",
    "    for line in f:\n",
    "        values = line.split()\n",
    "        word = values[0]\n",
    "        coefs = np.asarray(values[1:], dtype='float32')\n",
    "        embeddings_index[word] = coefs\n",
    "\n",
    "print('Found %s word vectors.' % len(embeddings_index))"
   ]
  },
  {
   "cell_type": "code",
   "execution_count": 4,
   "metadata": {},
   "outputs": [],
   "source": [
    "X=[]\n",
    "Y=[]\n",
    "with open('clean-data.json','r') as f:\n",
    "    d = json.load(f)\n",
    "    X.extend(d['text'].values())\n",
    "    Y.extend(d['sentiment'].values())\n"
   ]
  },
  {
   "cell_type": "code",
   "execution_count": 5,
   "metadata": {},
   "outputs": [
    {
     "name": "stdout",
     "output_type": "stream",
     "text": [
      "Found 6144 unique tokens.\n"
     ]
    }
   ],
   "source": [
    "tokenizer = Tokenizer(num_words=MAX_NUM_WORDS)\n",
    "tokenizer.fit_on_texts(X)\n",
    "sequences = tokenizer.texts_to_sequences(X)\n",
    "\n",
    "word_index = tokenizer.word_index\n",
    "print('Found %s unique tokens.' % len(word_index))"
   ]
  },
  {
   "cell_type": "code",
   "execution_count": 6,
   "metadata": {},
   "outputs": [],
   "source": [
    "X = pad_sequences(sequences, maxlen=MAX_SEQUENCE_LENGTH)\n",
    "tokenizer=Tokenizer()\n",
    "\n",
    "tokenizer.fit_on_texts(Y)\n",
    "\n",
    "Y = tokenizer.texts_to_matrix(Y)\n",
    "\n",
    "Y = np.asarray([a[1:] for a in Y])"
   ]
  },
  {
   "cell_type": "code",
   "execution_count": 7,
   "metadata": {},
   "outputs": [
    {
     "name": "stdout",
     "output_type": "stream",
     "text": [
      "[[   0    0    0 ...    2  551   94]\n",
      " [   0    0    0 ...    2  150 2384]\n",
      " [   0    0    0 ...  136    5 2922]\n",
      " ...\n",
      " [   0    0    0 ... 2092 1030 1189]\n",
      " [   0    0    0 ...    1  274 1021]\n",
      " [   0    0    0 ...    0  420  663]]\n",
      "[[0. 1. 0.]\n",
      " [0. 1. 0.]\n",
      " [0. 0. 1.]\n",
      " ...\n",
      " [1. 0. 0.]\n",
      " [0. 0. 1.]\n",
      " [1. 0. 0.]]\n",
      "Shape of data tensor: (1535, 150)\n",
      "Shape of label tensor: (1535, 3)\n"
     ]
    }
   ],
   "source": [
    "print(X)\n",
    "print(Y)\n",
    "print('Shape of data tensor:', X.shape)\n",
    "print('Shape of label tensor:', Y.shape)"
   ]
  },
  {
   "cell_type": "code",
   "execution_count": 8,
   "metadata": {},
   "outputs": [],
   "source": [
    "(x_train,x_test,y_train,y_test)=train_test_split(X,Y,test_size=0.2,random_state=42)"
   ]
  },
  {
   "cell_type": "code",
   "execution_count": 9,
   "metadata": {},
   "outputs": [],
   "source": [
    "# prepare embedding matrix\n",
    "num_words = min(MAX_NUM_WORDS, len(word_index)) + 1\n",
    "embedding_matrix = np.zeros((num_words, EMBEDDING_DIM))\n",
    "for word, i in word_index.items():\n",
    "    if i > MAX_NUM_WORDS:\n",
    "        continue\n",
    "    embedding_vector = embeddings_index.get(word)\n",
    "    if embedding_vector is not None:\n",
    "        # words not found in embedding index will be all-zeros.\n",
    "        embedding_matrix[i] = embedding_vector"
   ]
  },
  {
   "cell_type": "code",
   "execution_count": 10,
   "metadata": {},
   "outputs": [],
   "source": [
    "embedding_layer = Embedding(num_words,\n",
    "                            EMBEDDING_DIM,\n",
    "                            embeddings_initializer=Constant(embedding_matrix),\n",
    "                            input_length=MAX_SEQUENCE_LENGTH,\n",
    "                            trainable=False)"
   ]
  },
  {
   "cell_type": "code",
   "execution_count": 11,
   "metadata": {},
   "outputs": [],
   "source": [
    "rglrzr = regularizers.l2(0.1)"
   ]
  },
  {
   "cell_type": "code",
   "execution_count": 12,
   "metadata": {},
   "outputs": [
    {
     "name": "stdout",
     "output_type": "stream",
     "text": [
      "_________________________________________________________________\n",
      "Layer (type)                 Output Shape              Param #   \n",
      "=================================================================\n",
      "embedding_1 (Embedding)      (None, 150, 100)          400100    \n",
      "_________________________________________________________________\n",
      "conv1d_1 (Conv1D)            (None, 148, 128)          38528     \n",
      "_________________________________________________________________\n",
      "dropout_1 (Dropout)          (None, 148, 128)          0         \n",
      "_________________________________________________________________\n",
      "global_max_pooling1d_1 (Glob (None, 128)               0         \n",
      "_________________________________________________________________\n",
      "dense_1 (Dense)              (None, 32)                4128      \n",
      "_________________________________________________________________\n",
      "dense_2 (Dense)              (None, 3)                 99        \n",
      "=================================================================\n",
      "Total params: 442,855\n",
      "Trainable params: 42,755\n",
      "Non-trainable params: 400,100\n",
      "_________________________________________________________________\n"
     ]
    }
   ],
   "source": [
    "model = Sequential()\n",
    "model.add(embedding_layer)\n",
    "model.add(Conv1D(128, 3, activation='relu',kernel_regularizer=rglrzr))\n",
    "model.add(Dropout(0.2))\n",
    "model.add(GlobalMaxPooling1D())\n",
    "model.add(Dense(32, activation='relu'))\n",
    "model.add(Dense(3, activation='sigmoid'))\n",
    "model.compile(optimizer='rmsprop', loss='categorical_crossentropy', metrics=['acc'])\n",
    "model.summary()\n"
   ]
  },
  {
   "cell_type": "code",
   "execution_count": 13,
   "metadata": {},
   "outputs": [
    {
     "name": "stdout",
     "output_type": "stream",
     "text": [
      "Train on 982 samples, validate on 246 samples\n",
      "Epoch 1/20\n",
      "982/982 [==============================] - 2s 2ms/step - loss: 6.9548 - acc: 0.5804 - val_loss: 4.0549 - val_acc: 0.5732\n",
      "Epoch 2/20\n",
      "982/982 [==============================] - 2s 2ms/step - loss: 2.7273 - acc: 0.6018 - val_loss: 1.8045 - val_acc: 0.6260\n",
      "Epoch 3/20\n",
      "982/982 [==============================] - 2s 2ms/step - loss: 1.3952 - acc: 0.6507 - val_loss: 1.2082 - val_acc: 0.6504\n",
      "Epoch 4/20\n",
      "982/982 [==============================] - 2s 2ms/step - loss: 1.0677 - acc: 0.6405 - val_loss: 1.0374 - val_acc: 0.6707\n",
      "Epoch 5/20\n",
      "982/982 [==============================] - 2s 2ms/step - loss: 0.9368 - acc: 0.6935 - val_loss: 0.9735 - val_acc: 0.6748\n",
      "Epoch 6/20\n",
      "982/982 [==============================] - 2s 2ms/step - loss: 0.9201 - acc: 0.6772 - val_loss: 0.9388 - val_acc: 0.6829\n",
      "Epoch 7/20\n",
      "982/982 [==============================] - 2s 2ms/step - loss: 0.8897 - acc: 0.6823 - val_loss: 0.9298 - val_acc: 0.7033\n",
      "Epoch 8/20\n",
      "982/982 [==============================] - 2s 2ms/step - loss: 0.8723 - acc: 0.6914 - val_loss: 0.9043 - val_acc: 0.7033\n",
      "Epoch 9/20\n",
      "982/982 [==============================] - 2s 2ms/step - loss: 0.8470 - acc: 0.7108 - val_loss: 0.9124 - val_acc: 0.6707\n",
      "Epoch 10/20\n",
      "982/982 [==============================] - 2s 2ms/step - loss: 0.8288 - acc: 0.7159 - val_loss: 0.8923 - val_acc: 0.6951\n",
      "Epoch 11/20\n",
      "982/982 [==============================] - 2s 2ms/step - loss: 0.8354 - acc: 0.7261 - val_loss: 0.9316 - val_acc: 0.6463\n",
      "Epoch 12/20\n",
      "982/982 [==============================] - 2s 2ms/step - loss: 0.8202 - acc: 0.7138 - val_loss: 0.9504 - val_acc: 0.6789\n",
      "Epoch 13/20\n",
      "982/982 [==============================] - 2s 2ms/step - loss: 0.7991 - acc: 0.7301 - val_loss: 0.8713 - val_acc: 0.7195\n",
      "Epoch 14/20\n",
      "982/982 [==============================] - 2s 2ms/step - loss: 0.8148 - acc: 0.7291 - val_loss: 0.8934 - val_acc: 0.6789\n",
      "Epoch 15/20\n",
      "982/982 [==============================] - 2s 2ms/step - loss: 0.7668 - acc: 0.7556 - val_loss: 0.8861 - val_acc: 0.7073\n",
      "Epoch 16/20\n",
      "982/982 [==============================] - 2s 2ms/step - loss: 0.7773 - acc: 0.7627 - val_loss: 0.9632 - val_acc: 0.6707\n",
      "Epoch 17/20\n",
      "982/982 [==============================] - 2s 2ms/step - loss: 0.7591 - acc: 0.7648 - val_loss: 1.1094 - val_acc: 0.5488\n",
      "Epoch 18/20\n",
      "982/982 [==============================] - 2s 2ms/step - loss: 0.7885 - acc: 0.7556 - val_loss: 1.2131 - val_acc: 0.5203\n",
      "Epoch 19/20\n",
      "982/982 [==============================] - 2s 2ms/step - loss: 0.7656 - acc: 0.7607 - val_loss: 1.0074 - val_acc: 0.5935\n",
      "Epoch 20/20\n",
      "982/982 [==============================] - 2s 2ms/step - loss: 0.7350 - acc: 0.7678 - val_loss: 0.9647 - val_acc: 0.6626\n"
     ]
    }
   ],
   "source": [
    "history = model.fit(x_train, y_train,\n",
    "                    epochs=20,\n",
    "                    batch_size=32,\n",
    "                    validation_split=0.2)"
   ]
  },
  {
   "cell_type": "code",
   "execution_count": 15,
   "metadata": {},
   "outputs": [
    {
     "data": {
      "image/png": "[encoded data removed]",
      "text/plain": [
       "<Figure size 432x288 with 1 Axes>"
      ]
     },
     "metadata": {
      "needs_background": "light"
     },
     "output_type": "display_data"
    },
    {
     "data": {
      "image/png": "[encoded data removed]",
      "text/plain": [
       "<Figure size 432x288 with 1 Axes>"
      ]
     },
     "metadata": {
      "needs_background": "light"
     },
     "output_type": "display_data"
    }
   ],
   "source": [
    "# Plot training & validation accuracy values\n",
    "plt.plot(history.history['acc'])\n",
    "plt.plot(history.history['val_acc'])\n",
    "plt.title('Model accuracy')\n",
    "plt.ylabel('Accuracy')\n",
    "plt.xlabel('Epoch')\n",
    "plt.legend(['Train', 'Test'], loc='upper left')\n",
    "plt.show()\n",
    "\n",
    "# Plot training & validation loss values\n",
    "plt.plot(history.history['loss'])\n",
    "plt.plot(history.history['val_loss'])\n",
    "plt.title('Model loss')\n",
    "plt.ylabel('Loss')\n",
    "plt.xlabel('Epoch')\n",
    "plt.legend(['Train', 'Test'], loc='upper left')\n",
    "plt.show()"
   ]
  },
  {
   "cell_type": "code",
   "execution_count": 28,
   "metadata": {},
   "outputs": [],
   "source": [
    "import math\n",
    "import sklearn.metrics as metrics\n",
    "from sklearn.metrics import confusion_matrix\n",
    "#from pandas_ml import ConfusionMatrix\n",
    "from sklearn.metrics import accuracy_score\n",
    "import matplotlib.pyplot as plt\n",
    "import itertools"
   ]
  },
  {
   "cell_type": "code",
   "execution_count": 29,
   "metadata": {},
   "outputs": [],
   "source": [
    "y_pred = model.predict(x_test)\n",
    "def binar(li):\n",
    "    if li[0]>li[1] and li[0]>li[2] :\n",
    "        return 'positive'\n",
    "    if li[1]>li[2] and li[1]>li[0] :\n",
    "        return 'neutral'\n",
    "    return 'negative'\n",
    "y_pre=[binar(y) for y in y_pred]\n",
    "y_tes=[binar(y) for y in y_test]"
   ]
  },
  {
   "cell_type": "code",
   "execution_count": 30,
   "metadata": {},
   "outputs": [
    {
     "data": {
      "text/plain": [
       "array([[  0,   9,  23],\n",
       "       [  0,  57,  59],\n",
       "       [  0,  25, 134]], dtype=int64)"
      ]
     },
     "execution_count": 30,
     "metadata": {},
     "output_type": "execute_result"
    }
   ],
   "source": [
    "confusion_matrix(y_true=y_tes,y_pred=y_pre)"
   ]
  },
  {
   "cell_type": "code",
   "execution_count": 31,
   "metadata": {},
   "outputs": [
    {
     "name": "stdout",
     "output_type": "stream",
     "text": [
      "Accuracy Score:  0.6221498371335505\n",
      "[[  0   9  23]\n",
      " [  0  57  59]\n",
      " [  0  25 134]]\n"
     ]
    }
   ],
   "source": [
    "cnf_matrix = confusion_matrix(y_tes, y_pre)\n",
    "acc_score = accuracy_score(y_tes, y_pre)\n",
    "\n",
    "print('Accuracy Score: ', acc_score)\n",
    "print(cnf_matrix)"
   ]
  },
  {
   "cell_type": "code",
   "execution_count": 32,
   "metadata": {},
   "outputs": [],
   "source": [
    "def plot_confusion_matrix(cm, classes,\n",
    "                          title='Confusion matrix',\n",
    "                          cmap=plt.cm.Blues):\n",
    "\n",
    "    cm = cm.astype('float') / cm.sum(axis=1)[:, np.newaxis]\n",
    "\n",
    "    plt.imshow(cm, interpolation='nearest', cmap=cmap)\n",
    "    plt.title(title)\n",
    "    plt.colorbar()\n",
    "    tick_marks = np.arange(len(classes))\n",
    "    plt.xticks(tick_marks, classes)\n",
    "    plt.yticks(tick_marks, classes)\n",
    "\n",
    "    fmt = '.2f'\n",
    "    thresh = cm.max() / 2.\n",
    "    for i, j in itertools.product(range(cm.shape[0]), range(cm.shape[1])):\n",
    "        plt.text(j, i, format(cm[i, j], fmt),\n",
    "                 horizontalalignment=\"center\",\n",
    "                 color=\"white\" if cm[i, j] > thresh else \"black\")\n",
    "\n",
    "    plt.ylabel('True label')\n",
    "    plt.xlabel('Predicted label')"
   ]
  },
  {
   "cell_type": "code",
   "execution_count": 33,
   "metadata": {},
   "outputs": [
    {
     "data": {
      "image/png": "[encoded data removed]",
      "text/plain": [
       "<Figure size 1080x1080 with 2 Axes>"
      ]
     },
     "metadata": {
      "needs_background": "light"
     },
     "output_type": "display_data"
    }
   ],
   "source": [
    "text_labels = ['negative','neutral','positive']\n",
    "\n",
    "plt.figure(figsize=(15,15))\n",
    "plot_confusion_matrix(cnf_matrix, classes=text_labels, title=\"Confusion matrix\")\n",
    "plt.show()"
   ]
  }
 ],
 "metadata": {
  "kernelspec": {
   "display_name": "Python 3",
   "language": "python",
   "name": "python3"
  },
  "language_info": {
   "codemirror_mode": {
    "name": "ipython",
    "version": 3
   },
   "file_extension": ".py",
   "mimetype": "text/x-python",
   "name": "python",
   "nbconvert_exporter": "python",
   "pygments_lexer": "ipython3",
   "version": "3.6.8"
  }
 },
 "nbformat": 4,
 "nbformat_minor": 2
}
